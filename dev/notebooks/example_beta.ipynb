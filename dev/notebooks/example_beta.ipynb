{
 "cells": [
  {
   "cell_type": "markdown",
   "source": [
    "# Coriolis Parameter\n",
    "\n",
    "\n",
    "[from wikipedia:](https://en.wikipedia.org/wiki/Rossby_parameter)\n",
    "\n",
    "The Rossby parameter `β` arises due to the variation of the Coriolis\n",
    "force `f(φ)` as a function of latitude `φ`. It is important\n",
    "in the generation of Rossby waves and given by\n",
    "\n",
    "$$ \\beta(\\varphi) = 2\\Omega / R * cos(\\varphi) $$"
   ],
   "metadata": {}
  },
  {
   "outputs": [
    {
     "output_type": "execute_result",
     "data": {
      "text/plain": "true"
     },
     "metadata": {},
     "execution_count": 1
    }
   ],
   "cell_type": "code",
   "source": [
    "using PhysicalOceanography\n",
    "isapprox(β(45),1.61687441686e-11)"
   ],
   "metadata": {},
   "execution_count": 1
  },
  {
   "cell_type": "markdown",
   "source": [
    "---\n",
    "\n",
    "*This notebook was generated using [Literate.jl](https://github.com/fredrikekre/Literate.jl).*"
   ],
   "metadata": {}
  }
 ],
 "nbformat_minor": 3,
 "metadata": {
  "language_info": {
   "file_extension": ".jl",
   "mimetype": "application/julia",
   "name": "julia",
   "version": "1.3.1"
  },
  "kernelspec": {
   "name": "julia-1.3",
   "display_name": "Julia 1.3.1",
   "language": "julia"
  }
 },
 "nbformat": 4
}
