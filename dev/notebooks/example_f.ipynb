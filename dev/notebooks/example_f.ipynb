{
 "cells": [
  {
   "cell_type": "markdown",
   "source": [
    "# Coriolis Parameter\n",
    "\n",
    "\n",
    "[from wikipedia:](https://en.wikipedia.org/wiki/Coriolis_frequency)\n",
    "\n",
    "The Coriolis frequency `ƒ`, also called the Coriolis parameter or Coriolis\n",
    "coefficient, is equal to twice the rotation rate `Ω` of the Earth multiplied\n",
    "by the `sine` of the latitude `φ`.\n",
    "\n",
    "$$f=2\\Omega \\sin \\varphi$$"
   ],
   "metadata": {}
  },
  {
   "outputs": [
    {
     "output_type": "execute_result",
     "data": {
      "text/plain": "true"
     },
     "metadata": {},
     "execution_count": 1
    }
   ],
   "cell_type": "code",
   "source": [
    "using PhysicalOceanography\n",
    "isapprox(f(45),1.03125867182e-4)"
   ],
   "metadata": {},
   "execution_count": 1
  },
  {
   "cell_type": "markdown",
   "source": [
    "---\n",
    "\n",
    "*This notebook was generated using [Literate.jl](https://github.com/fredrikekre/Literate.jl).*"
   ],
   "metadata": {}
  }
 ],
 "nbformat_minor": 3,
 "metadata": {
  "language_info": {
   "file_extension": ".jl",
   "mimetype": "application/julia",
   "name": "julia",
   "version": "1.3.1"
  },
  "kernelspec": {
   "name": "julia-1.3",
   "display_name": "Julia 1.3.1",
   "language": "julia"
  }
 },
 "nbformat": 4
}
